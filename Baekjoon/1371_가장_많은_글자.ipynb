{
  "nbformat": 4,
  "nbformat_minor": 0,
  "metadata": {
    "colab": {
      "name": "백준 1371 가장 많은 글자.ipynb",
      "provenance": [],
      "collapsed_sections": []
    },
    "kernelspec": {
      "name": "python3",
      "display_name": "Python 3"
    },
    "language_info": {
      "name": "python"
    }
  },
  "cells": [
    {
      "cell_type": "markdown",
      "metadata": {
        "id": "bgZQWUB-2IiM"
      },
      "source": [
        "여러줄에 걸쳐진 입력의 경우를 해결 못 함."
      ]
    },
    {
      "cell_type": "code",
      "metadata": {
        "colab": {
          "base_uri": "https://localhost:8080/"
        },
        "id": "gl0CUNCzl3kW",
        "outputId": "4071ec5a-adbb-4f61-b481-6a726257a140"
      },
      "source": [
        "l=list((str(input()).replace(' ','')).replace('\\n',''))"
      ],
      "execution_count": 71,
      "outputs": [
        {
          "output_type": "stream",
          "text": [
            "aaaabbbbedt\n"
          ],
          "name": "stdout"
        }
      ]
    },
    {
      "cell_type": "code",
      "metadata": {
        "id": "aPxwAbW0mPGR"
      },
      "source": [
        "cnt={}"
      ],
      "execution_count": 96,
      "outputs": []
    },
    {
      "cell_type": "code",
      "metadata": {
        "id": "SC-7pppgqlfx"
      },
      "source": [
        "cnt['a']=0\n",
        "cnt['b']=0\n",
        "cnt['c']=0\n",
        "cnt['d']=0\n",
        "cnt['e']=0\n",
        "cnt['f']=0\n",
        "cnt['g']=0\n",
        "cnt['h']=0\n",
        "cnt['i']=0\n",
        "cnt['j']=0\n",
        "cnt['k']=0\n",
        "cnt['l']=0\n",
        "cnt['m']=0\n",
        "cnt['n']=0\n",
        "cnt['o']=0\n",
        "cnt['p']=0\n",
        "cnt['q']=0\n",
        "cnt['r']=0\n",
        "cnt['s']=0\n",
        "cnt['t']=0\n",
        "cnt['u']=0\n",
        "cnt['v']=0\n",
        "cnt['w']=0\n",
        "cnt['x']=0\n",
        "cnt['y']=0\n",
        "cnt['z']=0"
      ],
      "execution_count": 107,
      "outputs": []
    },
    {
      "cell_type": "code",
      "metadata": {
        "id": "shAq_gzmqvBm"
      },
      "source": [
        "for key in cnt:\n",
        "  for i in l:\n",
        "    if key==i:\n",
        "      cnt[key]+=1"
      ],
      "execution_count": 108,
      "outputs": []
    },
    {
      "cell_type": "code",
      "metadata": {
        "colab": {
          "base_uri": "https://localhost:8080/"
        },
        "id": "UtH725EermSp",
        "outputId": "e8fe53ee-74d0-46e6-a73d-922beb4c539b"
      },
      "source": [
        "for key, value in cnt.items():   \n",
        "  if value==max(cnt.values()):\n",
        "    print(key, end='')\n"
      ],
      "execution_count": 110,
      "outputs": [
        {
          "output_type": "stream",
          "text": [
            "az"
          ],
          "name": "stdout"
        }
      ]
    },
    {
      "cell_type": "code",
      "metadata": {
        "id": "kzwtJcjSuxiE"
      },
      "source": [
        ""
      ],
      "execution_count": null,
      "outputs": []
    }
  ]
}
