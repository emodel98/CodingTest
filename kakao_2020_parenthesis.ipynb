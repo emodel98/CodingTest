{
  "nbformat": 4,
  "nbformat_minor": 0,
  "metadata": {
    "colab": {
      "name": "kakao_2020_parenthesis.ipynb",
      "provenance": [],
      "collapsed_sections": []
    },
    "kernelspec": {
      "name": "python3",
      "display_name": "Python 3"
    },
    "language_info": {
      "name": "python"
    }
  },
  "cells": [
    {
      "cell_type": "markdown",
      "metadata": {
        "id": "5ISKICkybmtw"
      },
      "source": [
        "문제: 괄호 변환\n",
        "문제 링크: https://programmers.co.kr/learn/courses/30/lessons/60058"
      ]
    },
    {
      "cell_type": "code",
      "metadata": {
        "colab": {
          "base_uri": "https://localhost:8080/",
          "height": 232
        },
        "id": "zrj2Lo0hMkUp",
        "outputId": "d40df7de-424c-4bdd-db7c-6945f8a8a300"
      },
      "source": [
        "#1 망해버린\n",
        "answer=''\n",
        "p='(()))()'\n",
        "a={}\n",
        "u=''\n",
        "\n",
        "# if p is null:\n",
        "#         return answer\n",
        "#     else:\n",
        "\n",
        "if p[0]=='(':  \n",
        "  for i in range(len(p)):          \n",
        "    while p[i]=='(':\n",
        "      a[1]+=1\n",
        "    break\n",
        "    u=('('*a[1]+')'*a[1])\n",
        "print(u)"
      ],
      "execution_count": null,
      "outputs": [
        {
          "output_type": "error",
          "ename": "KeyError",
          "evalue": "ignored",
          "traceback": [
            "\u001b[0;31m---------------------------------------------------------------------------\u001b[0m",
            "\u001b[0;31mKeyError\u001b[0m                                  Traceback (most recent call last)",
            "\u001b[0;32m<ipython-input-28-d8fe250ecb63>\u001b[0m in \u001b[0;36m<module>\u001b[0;34m()\u001b[0m\n\u001b[1;32m     12\u001b[0m   \u001b[0;32mfor\u001b[0m \u001b[0mi\u001b[0m \u001b[0;32min\u001b[0m \u001b[0mrange\u001b[0m\u001b[0;34m(\u001b[0m\u001b[0mlen\u001b[0m\u001b[0;34m(\u001b[0m\u001b[0mp\u001b[0m\u001b[0;34m)\u001b[0m\u001b[0;34m)\u001b[0m\u001b[0;34m:\u001b[0m\u001b[0;34m\u001b[0m\u001b[0;34m\u001b[0m\u001b[0m\n\u001b[1;32m     13\u001b[0m     \u001b[0;32mwhile\u001b[0m \u001b[0mp\u001b[0m\u001b[0;34m[\u001b[0m\u001b[0mi\u001b[0m\u001b[0;34m]\u001b[0m\u001b[0;34m==\u001b[0m\u001b[0;34m'('\u001b[0m\u001b[0;34m:\u001b[0m\u001b[0;34m\u001b[0m\u001b[0;34m\u001b[0m\u001b[0m\n\u001b[0;32m---> 14\u001b[0;31m       \u001b[0ma\u001b[0m\u001b[0;34m[\u001b[0m\u001b[0;36m1\u001b[0m\u001b[0;34m]\u001b[0m\u001b[0;34m+=\u001b[0m\u001b[0;36m1\u001b[0m\u001b[0;34m\u001b[0m\u001b[0;34m\u001b[0m\u001b[0m\n\u001b[0m\u001b[1;32m     15\u001b[0m     \u001b[0;32mbreak\u001b[0m\u001b[0;34m\u001b[0m\u001b[0;34m\u001b[0m\u001b[0m\n\u001b[1;32m     16\u001b[0m     \u001b[0mu\u001b[0m\u001b[0;34m=\u001b[0m\u001b[0;34m(\u001b[0m\u001b[0;34m'('\u001b[0m\u001b[0;34m*\u001b[0m\u001b[0ma\u001b[0m\u001b[0;34m[\u001b[0m\u001b[0;36m1\u001b[0m\u001b[0;34m]\u001b[0m\u001b[0;34m+\u001b[0m\u001b[0;34m')'\u001b[0m\u001b[0;34m*\u001b[0m\u001b[0ma\u001b[0m\u001b[0;34m[\u001b[0m\u001b[0;36m1\u001b[0m\u001b[0;34m]\u001b[0m\u001b[0;34m)\u001b[0m\u001b[0;34m\u001b[0m\u001b[0;34m\u001b[0m\u001b[0m\n",
            "\u001b[0;31mKeyError\u001b[0m: 1"
          ]
        }
      ]
    },
    {
      "cell_type": "markdown",
      "metadata": {
        "id": "tJCBvAR-R6lo"
      },
      "source": [
        "#2\n",
        "\n",
        "각각 함수를 만들어서 하자. \n",
        "\n",
        "  1) p가 올바른 문자열인지 체크하는 함수-> list에 pop활용하기\n",
        "\n",
        "  2) 올바르지 않다면 u,v로 나누는 함수\n",
        "    #v를 다시 새로운 u,v로 나누기 반복\n",
        "\n",
        "  3) 괄호 바꿔주는 함수\n",
        "\n",
        "  4) 최종 solution 함수\n",
        "\n",
        "\n",
        "  https://johnyejin.tistory.com/124"
      ]
    },
    {
      "cell_type": "code",
      "metadata": {
        "id": "lguNKnruQhu-"
      },
      "source": [
        "#각각 함수를 만들어서 \n",
        "\n",
        "stack=[]\n",
        "\n",
        "\n",
        "def check(p) :\n",
        "    try:\n",
        "        for i in p:\n",
        "            if i =='(':\n",
        "                stack.append('(')\n",
        "            else:\n",
        "                stack.pop()\n",
        "        return True\n",
        "    except:  ##try 블록 수행 중 오류가 발생하면 except 블록이 수행된다. 하지만 try 블록에서 오류가 발생하지 않는다면 except 블록은 수행되지 않는다.\n",
        "        return False ## stack에 아무것도 없는데 pop 해야하면 이 블록으로 온다.\n",
        "\n",
        "def divide(p):\n",
        "    a={0:0, 1:0}\n",
        "    for i in p:\n",
        "        if i == '(':\n",
        "            a[0] += 1\n",
        "        else:\n",
        "            a[1] += 1\n",
        "        if a[0] == a[1]:\n",
        "            break\n",
        "    return p[:sum(a.values())], p[sum(a.values()):]\n",
        "\n",
        "def reverse(u) :\n",
        "    temp=''\n",
        "    for i in u:\n",
        "        if i == '(':\n",
        "            temp+=')'\n",
        "        else:\n",
        "            temp+='('\n",
        "    return temp\n",
        "\n",
        "def solution(p):\n",
        "    answer = ''\n",
        "\n",
        "    while len(p) != 0:\n",
        "        u, p = divide(p)\n",
        "        if check(u)==True:\n",
        "            answer += u\n",
        "        else:\n",
        "            answer += '(' + solution(p) + ')' + reverse(u[1:-1])\n",
        "            break\n",
        "\n",
        "    return answer"
      ],
      "execution_count": 47,
      "outputs": []
    },
    {
      "cell_type": "code",
      "metadata": {
        "colab": {
          "base_uri": "https://localhost:8080/",
          "height": 37
        },
        "id": "WtO9bJVjV65e",
        "outputId": "71ad7243-8cac-443e-8d07-cc30ee555ce9"
      },
      "source": [
        "solution('()())')"
      ],
      "execution_count": 49,
      "outputs": [
        {
          "output_type": "execute_result",
          "data": {
            "application/vnd.google.colaboratory.intrinsic+json": {
              "type": "string"
            },
            "text/plain": [
              "'()()()'"
            ]
          },
          "metadata": {
            "tags": []
          },
          "execution_count": 49
        }
      ]
    },
    {
      "cell_type": "code",
      "metadata": {
        "id": "mPyS98DYXqRm"
      },
      "source": [
        ""
      ],
      "execution_count": null,
      "outputs": []
    }
  ]
}