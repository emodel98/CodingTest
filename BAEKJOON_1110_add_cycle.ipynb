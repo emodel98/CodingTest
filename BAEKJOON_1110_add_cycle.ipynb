{
  "nbformat": 4,
  "nbformat_minor": 0,
  "metadata": {
    "colab": {
      "name": "BAEKJOON_1110_add_cycle.ipynb",
      "provenance": [],
      "collapsed_sections": []
    },
    "kernelspec": {
      "name": "python3",
      "display_name": "Python 3"
    },
    "language_info": {
      "name": "python"
    }
  },
  "cells": [
    {
      "cell_type": "markdown",
      "metadata": {
        "id": "XtdMVXV9lS1d"
      },
      "source": [
        "* 0보다 크거나 같고, 99보다 작거나 같은 정수가 주어질 때 다음과 같은 연산을 할 수 있다. 먼저 주어진 \n",
        "\n",
        "수가 10보다 작다면 앞에 0을 붙여 두 자리 수로 만들고, 각 자리의 숫자를 더한다. 그 다음, 주어진 수의 가장 오른쪽 자리 수와 앞에서 구한 합의 가장 오른쪽 자리 수를 이어 붙이면 새로운 수를 만들 수 있다. 다음 예를 보자.\n",
        "\n",
        "* 26부터 시작한다. 2+6 = 8이다. 새로운 수는 68이다. 6+8 = 14이다. 새로운 수는 84이다. 8+4 = 12이다. 새로운 수는 42이다. 4+2 = 6이다. 새로운 수는 26이다.\n",
        "\n",
        "위의 예는 4번만에 원래 수로 돌아올 수 있다. 따라서 26의 사이클의 길이는 4이다.\n",
        "\n",
        "* N이 주어졌을 때, N의 사이클의 길이를 구하는 프로그램을 작성하시오."
      ]
    },
    {
      "cell_type": "markdown",
      "metadata": {
        "id": "JOO_SxB1lPFr"
      },
      "source": [
        "# 입력\n",
        "* 첫째 줄에 N이 주어진다. N은 0보다 크거나 같고, 99보다 작거나 같은 정수이다."
      ]
    },
    {
      "cell_type": "markdown",
      "metadata": {
        "id": "pktdFUd1laru"
      },
      "source": [
        "# 출력\n",
        "* 첫째 줄에 N의 사이클 길이를 출력한다."
      ]
    },
    {
      "cell_type": "code",
      "metadata": {
        "id": "FennZDZC7KKR"
      },
      "source": [
        "26을 받으면 첫단계에서는 2+6을 하고 6,8=>68 만든다.\n",
        "두번째 단계에서는 6+8=14를 하고 8,4=> 84 만든다.\n",
        "세번재 단계에서는 8+4=12를 하고 4,2=>42 만든다. \n",
        "네번째 단계에서는 4+2=6을 하고 2,6=>26\n",
        "\n",
        "(주어진수(s)의 오른쪽자리수, 앞에서 구한 합(s[0]+s[1])의 가장 오른쪽 자리수)"
      ],
      "execution_count": null,
      "outputs": []
    },
    {
      "cell_type": "code",
      "metadata": {
        "colab": {
          "base_uri": "https://localhost:8080/"
        },
        "id": "cMZTbiQk8SoS",
        "outputId": "5b213a3d-88aa-4b22-ada4-1e71569ac5c7"
      },
      "source": [
        "n=input()\n",
        "s=n\n",
        "c=0\n",
        "a=''\n",
        "while True:\n",
        "  if int(s)<10: #s를 이전단계의 결과물이라 생각.\n",
        "     s=s+'0'\n",
        "  else:\n",
        "    pass\n",
        "  a = str(int(s[0])+int(s[1])) #a: 더해진값\n",
        "  new = s[-1]+a[-1] #new: 새로만들어진값. 이번단계 결과물이라 생각\n",
        "  c += 1\n",
        "\n",
        "  if new==n:\n",
        "    break\n",
        "\n",
        "  s=new #대입\n",
        "\n",
        "print(c)\n",
        "\n",
        "##시간초과..."
      ],
      "execution_count": 100,
      "outputs": [
        {
          "output_type": "stream",
          "text": [
            "26\n",
            "4\n"
          ],
          "name": "stdout"
        }
      ]
    },
    {
      "cell_type": "code",
      "metadata": {
        "id": "dGRftuMvAyZo"
      },
      "source": [
        "#구글링->조금더 빠른방법\n",
        "\n",
        "input_num = int(input())\n",
        "\n",
        "num = input_num  # num 변수에 input_num을 지정\n",
        "cnt = 0\n",
        "while True:\n",
        "    sum_num = (num // 10) + (num % 10)  # 각 자릿수를 더한수\n",
        "    new_num = ((num % 10) * 10) + (sum_num % 10)  # 새로 만들어지는 수\n",
        "    cnt += 1  # 사이클 카운트\n",
        "    if new_num == input_num :\n",
        "        break\n",
        "    num = new_num  # num 변수에 last_num을 지정 \n",
        "print(cnt)"
      ],
      "execution_count": null,
      "outputs": []
    }
  ]
}