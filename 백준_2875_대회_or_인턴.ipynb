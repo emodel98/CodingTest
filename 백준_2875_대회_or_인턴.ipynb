{
  "nbformat": 4,
  "nbformat_minor": 0,
  "metadata": {
    "colab": {
      "name": "백준_2875_대회 or 인턴.ipynb",
      "provenance": [],
      "collapsed_sections": []
    },
    "kernelspec": {
      "name": "python3",
      "display_name": "Python 3"
    },
    "language_info": {
      "name": "python"
    }
  },
  "cells": [
    {
      "cell_type": "markdown",
      "metadata": {
        "id": "WWigPANJqXyQ"
      },
      "source": [
        "문제링크:https://www.acmicpc.net/problem/2875\n",
        "\n",
        "백준대학교에서는 대회에 나갈 때 2명의 여학생과 1명의 남학생이 팀을 결성해서 나가는 것이 원칙이다. (왜인지는 총장님께 여쭈어보는 것이 좋겠다.)\n",
        "\n",
        "백준대학교는 뛰어난 인재들이 많아 올해에도 N명의 여학생과 M명의 남학생이 팀원을 찾고 있다. 대회에 참여하려는 학생들 중 K명은 반드시 인턴쉽 프로그램에 참여해야 한다. 인턴쉽에 참여하는 학생은 대회에 참여하지 못한다.\n",
        "\n",
        "백준대학교에서는 뛰어난 인재들이 많기 때문에, 많은 팀을 만드는 것이 최선이다.\n",
        "\n",
        "여러분은 여학생의 수 N, 남학생의 수 M, 인턴쉽에 참여해야하는 인원 K가 주어질 때 만들 수 있는 최대의 팀 수를 구하면 된다.\n",
        "\n",
        "입력\n",
        "첫째 줄에 N, M, K가 순서대로 주어진다. (0 ≤ M ≤ 100, 0 ≤ N ≤ 100, 0 ≤ K ≤ M+N),\n",
        "\n",
        "출력\n",
        "만들 수 있는 팀의 최대 개수를 출력하면 된다."
      ]
    },
    {
      "cell_type": "code",
      "metadata": {
        "id": "g6b3TKstqamY"
      },
      "source": [
        "여학생의 수    남학생의 수\n",
        "t=a%2만큼의 팀. t=b만큼의 팀. \n",
        "\n",
        "\n",
        "a=k만큼 빠진 이후의 여자\n",
        "b=k빠진이후 남자수\n",
        "\n",
        "k_g// k_b\n",
        "x  // k-x\n",
        "N-x=a\n",
        "M-k+x=b\n",
        "\n",
        "x는 1부터 k까지1씩증가.\n",
        "\n",
        "if 2b>a ##남자가 더 많으면\n",
        "t=a//2 ##팀수=여자수/2의 몫\n",
        "else\n",
        "t=b ##팀수=남자수"
      ],
      "execution_count": null,
      "outputs": []
    },
    {
      "cell_type": "code",
      "metadata": {
        "colab": {
          "base_uri": "https://localhost:8080/"
        },
        "id": "jFHUnwk6xDLf",
        "outputId": "d348f94b-abbc-4c22-f92c-ac5781b32154"
      },
      "source": [
        "import sys\n",
        "N, M, K = map(int,sys.stdin.readline().split())\n",
        "# N=6\n",
        "# M=4\n",
        "# K=0 ##K명은 반드시 인턴 참가해야 함.\n",
        "\n",
        "t=0\n",
        "\n",
        "for i in range(K+1): # K+1을 해 줘야 0일 때 1번, 1일 때 2번을 함.\n",
        "    a = N-i\n",
        "    b = M-K+i\n",
        "    if (b < a//2):# 여자가 더 많으면\n",
        "        if t<=b:\n",
        "            t=b #팀수=남자수\n",
        "        else:\n",
        "            pass\n",
        "    elif (b >= a//2): # 남자가 더 많으면\n",
        "        if (t<=a//2):\n",
        "            t=a//2 #팀수=여자수/2의 몫\n",
        "        else:\n",
        "            pass\n",
        "print(t)\n",
        "\n"
      ],
      "execution_count": 83,
      "outputs": [
        {
          "output_type": "stream",
          "text": [
            "3\n"
          ],
          "name": "stdout"
        }
      ]
    },
    {
      "cell_type": "code",
      "metadata": {
        "id": "mbx7TlHQz5Rn"
      },
      "source": [
        ""
      ],
      "execution_count": null,
      "outputs": []
    }
  ]
}