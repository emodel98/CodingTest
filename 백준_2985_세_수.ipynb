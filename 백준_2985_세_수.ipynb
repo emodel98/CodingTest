{
  "nbformat": 4,
  "nbformat_minor": 0,
  "metadata": {
    "colab": {
      "name": "백준 2985 세 수.ipynb",
      "provenance": [],
      "collapsed_sections": []
    },
    "kernelspec": {
      "name": "python3",
      "display_name": "Python 3"
    },
    "language_info": {
      "name": "python"
    }
  },
  "cells": [
    {
      "cell_type": "code",
      "metadata": {
        "colab": {
          "base_uri": "https://localhost:8080/"
        },
        "id": "z8rFVElYCLH_",
        "outputId": "ae534724-1242-4d28-eaa6-998f0fa57f42"
      },
      "source": [
        "a=input()\n",
        "l=list(a.split())"
      ],
      "execution_count": 29,
      "outputs": [
        {
          "output_type": "stream",
          "text": [
            "30 2 15\n"
          ],
          "name": "stdout"
        }
      ]
    },
    {
      "cell_type": "code",
      "metadata": {
        "colab": {
          "base_uri": "https://localhost:8080/"
        },
        "id": "ZHUubLmtDhDc",
        "outputId": "a74df1fa-44d8-4269-801f-56b5f519668a"
      },
      "source": [
        "l"
      ],
      "execution_count": 30,
      "outputs": [
        {
          "output_type": "execute_result",
          "data": {
            "text/plain": [
              "['30', '2', '15']"
            ]
          },
          "metadata": {
            "tags": []
          },
          "execution_count": 30
        }
      ]
    },
    {
      "cell_type": "code",
      "metadata": {
        "colab": {
          "base_uri": "https://localhost:8080/"
        },
        "id": "v1mT5cJrDt03",
        "outputId": "e47d5524-5c1c-4126-faf8-37de37beea77"
      },
      "source": [
        "if int(l[0])>=int(l[2]):\n",
        "  if int(l[0])==int(l[1])*int(l[2]):\n",
        "    print(l[0]+'='+l[1]+'*'+l[2])\n",
        "  elif int(l[0])==int(l[1])+int(l[2]):\n",
        "    print(l[0]+'='+l[1]+'+'+l[2])\n",
        "  elif int(l[0])==int(l[1])/int(l[2]):\n",
        "    print(l[0]+'='+l[1]+'/'+l[2])\n",
        "  elif int(l[0])==int(l[1])-int(l[2]):\n",
        "    print(l[0]+'='+l[1]+'-'+l[2])\n",
        "else:\n",
        "  if int(l[0])*int(l[1])==int(l[2]):\n",
        "    print(l[0]+'*'+l[1]+'='+l[2])\n",
        "  elif int(l[0])+int(l[1])==int(l[2]):\n",
        "    print(l[0]+'+'+l[1]+'='+l[2])\n",
        "  elif int(l[0])/int(l[1])==int(l[2]):\n",
        "    print(l[0]+'/'+l[1]+'='+l[2])\n",
        "  elif int(l[0])-int(l[1])==int(l[2]):\n",
        "    print(l[0]+'-'+l[1]+'='+l[2])"
      ],
      "execution_count": 31,
      "outputs": [
        {
          "output_type": "stream",
          "text": [
            "30=2*15\n"
          ],
          "name": "stdout"
        }
      ]
    },
    {
      "cell_type": "code",
      "metadata": {
        "id": "arQFjyOaEi9g"
      },
      "source": [
        ""
      ],
      "execution_count": null,
      "outputs": []
    }
  ]
}