{
  "nbformat": 4,
  "nbformat_minor": 0,
  "metadata": {
    "colab": {
      "name": "BAEKJOON_baskin.ipynb",
      "provenance": [],
      "collapsed_sections": []
    },
    "kernelspec": {
      "name": "python3",
      "display_name": "Python 3"
    },
    "language_info": {
      "name": "python"
    }
  },
  "cells": [
    {
      "cell_type": "markdown",
      "metadata": {
        "id": "x8MPtL9YpxY3"
      },
      "source": [
        "#배스킨라빈스 31\n",
        "\n",
        "  \n",
        "\n",
        "  *   문제 링크: https://www.acmicpc.net/problem/20004\n",
        "  *   문제 설명: 베스킨라빈스 게임은 1부터 31까지의 수를 순차적으로 한번에 1개 이상, 3개 이하 연달아 부를 수 있으며, 마지막 31을 부른 사람이 지는 게임이다. 시온이와 민우는 베스킨라빈스 게임을 하기로 했지만 이 게임이 너무 유명한 나머지 시온이와 민우 모두 필승 방법을 알고 있었다. 평소에 항상 운이 없던 시온이는 가위바위보를 져 민우에게 선공을 빼았기게 되었고 이대로 게임을 한다면 질 수밖에 없는 상황이다. 그래서 시온이는 1개 이상, N개 이하의 수를 부를 수 있는 규칙의 게임으로 변형하자고 말하였고 민우도 수락했다. 이 경우 시온이가 게임을 이길 수 있는 모든 n(1 ≤ n ≤ A)을 출력하시오.\n",
        "\n",
        "\n",
        "\n",
        "\n"
      ]
    },
    {
      "cell_type": "code",
      "metadata": {
        "id": "qIy5U7-ApxLi"
      },
      "source": [
        "#A 제시-> 후공격 필승법 찾기. 1~N. "
      ],
      "execution_count": 7,
      "outputs": []
    },
    {
      "cell_type": "markdown",
      "metadata": {
        "id": "3ma676L7DGiU"
      },
      "source": [
        "#어떤 수가 나오든 후 공격 필승하는법"
      ]
    },
    {
      "cell_type": "code",
      "metadata": {
        "id": "D4yIbUTW6-SY"
      },
      "source": [
        "def solution(A):\n",
        "    if A==1:\n",
        "        temp=[1]\n",
        "    elif A==2:\n",
        "        temp=[1, 2]\n",
        "    else:\n",
        "        temp=[]\n",
        "        for k in range(0,A):\n",
        "            if A%(k+1)==1:\n",
        "                temp.append(k)\n",
        "            else:\n",
        "                pass\n",
        "    return list(map(str, temp)) \n",
        "\n",
        "def l_print(n):\n",
        "    o = \"\"\n",
        "    for i in n:\n",
        "        o += (i + \"\\n\")\n",
        "    return o"
      ],
      "execution_count": 119,
      "outputs": []
    },
    {
      "cell_type": "code",
      "metadata": {
        "colab": {
          "base_uri": "https://localhost:8080/"
        },
        "id": "kIVomzeExLAK",
        "outputId": "1589487b-c07f-4833-d803-45107d1f8666"
      },
      "source": [
        "print(l_print(solution(2)))"
      ],
      "execution_count": 118,
      "outputs": [
        {
          "output_type": "stream",
          "text": [
            "1\n",
            "2\n",
            "\n"
          ],
          "name": "stdout"
        }
      ]
    },
    {
      "cell_type": "markdown",
      "metadata": {
        "id": "4PoHHpC2GhnD"
      },
      "source": [
        "#정답은 맞는데 런타임 에러"
      ]
    },
    {
      "cell_type": "code",
      "metadata": {
        "id": "kt5D5ysPxVfM"
      },
      "source": [
        "def solution(A):\n",
        "  temp=[]\n",
        "  for n in range(0,A):\n",
        "    if 31%(n+1)==1:\n",
        "      temp.append(n)\n",
        "    else:\n",
        "      pass\n",
        "  return list(map(str, temp))\n",
        "\n",
        "def l_print(n):\n",
        "  o = \"\"\n",
        "  for i in n:\n",
        "    o += (i + \"\\n\")\n",
        "  return o\n"
      ],
      "execution_count": 156,
      "outputs": []
    },
    {
      "cell_type": "code",
      "metadata": {
        "colab": {
          "base_uri": "https://localhost:8080/"
        },
        "id": "_WmOks8kDrya",
        "outputId": "ce8601a1-1cb0-4643-91de-91ca21d923d8"
      },
      "source": [
        "print(l_print(solution(4)))"
      ],
      "execution_count": 158,
      "outputs": [
        {
          "output_type": "stream",
          "text": [
            "1\n",
            "2\n",
            "\n"
          ],
          "name": "stdout"
        }
      ]
    },
    {
      "cell_type": "markdown",
      "metadata": {
        "id": "VrCkcKDLKh9C"
      },
      "source": [
        "#짧은 버전"
      ]
    },
    {
      "cell_type": "code",
      "metadata": {
        "colab": {
          "base_uri": "https://localhost:8080/"
        },
        "id": "dFB544fDDtzc",
        "outputId": "13eededa-73a2-4e92-f68a-d4c16cf9140b"
      },
      "source": [
        "#programmers 형태\n",
        "def solution(A):\n",
        "  o = \"\"\n",
        "  for n in range(1,A+1):\n",
        "    if 30%(n+1)==0:\n",
        "      o =o + str(n) + '\\n'\n",
        "  print(o)\n",
        "solution(31)"
      ],
      "execution_count": 191,
      "outputs": [
        {
          "output_type": "stream",
          "text": [
            "1\n",
            "2\n",
            "4\n",
            "5\n",
            "9\n",
            "14\n",
            "29\n",
            "\n"
          ],
          "name": "stdout"
        }
      ]
    },
    {
      "cell_type": "code",
      "metadata": {
        "colab": {
          "base_uri": "https://localhost:8080/"
        },
        "id": "LyBeIRxyG9rl",
        "outputId": "cf6ed941-afdd-4938-d766-64935061f255"
      },
      "source": [
        "# 백준 형태\n",
        "A=int(input())\n",
        "\n",
        "o = \"\"\n",
        "for n in range(1,A+1):\n",
        "  if 30%(n+1)==0:\n",
        "    o =o + str(n) + '\\n'\n",
        "\n",
        "print(o)"
      ],
      "execution_count": 194,
      "outputs": [
        {
          "output_type": "stream",
          "text": [
            "5\n",
            "1\n",
            "2\n",
            "4\n",
            "5\n",
            "\n"
          ],
          "name": "stdout"
        }
      ]
    }
  ]
}