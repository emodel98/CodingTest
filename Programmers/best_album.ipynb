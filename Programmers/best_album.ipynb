{
  "nbformat": 4,
  "nbformat_minor": 0,
  "metadata": {
    "colab": {
      "name": "best_album.ipynb",
      "provenance": [],
      "collapsed_sections": []
    },
    "kernelspec": {
      "display_name": "Python 3",
      "name": "python3"
    },
    "language_info": {
      "name": "python"
    }
  },
  "cells": [
    {
      "cell_type": "code",
      "metadata": {
        "colab": {
          "base_uri": "https://localhost:8080/"
        },
        "id": "88FoXfrjRoKt",
        "outputId": "56020a02-4c7b-40ea-b214-09881cb49094"
      },
      "source": [
        "# 한번에 한다면?\n",
        "genres=[\"classic\", \"pop\", \"classic\", \"classic\", \"pop\"]\n",
        "plays= [500, 600, 150, 800, 2500]\n",
        "temp={}\n",
        "\n",
        "for i in range(0,len(genres)):\n",
        "  temp[i]=genres[i], plays[i]\n",
        "# 합 순서로 gencnt 만들자. \n",
        "\n",
        "placnt=[(temp[i][0],temp[i][1]) for i in temp]\n",
        "# tot_sum=int(pla)\n",
        "# new_dict = sorted(temp.items(), key=lambda x:x[1][1], reverse=True)\n",
        "# print(new_dict)\n",
        "\n",
        "print(placnt)"
      ],
      "execution_count": 288,
      "outputs": [
        {
          "output_type": "stream",
          "text": [
            "[('classic', 500), ('pop', 600), ('classic', 150), ('classic', 800), ('pop', 2500)]\n"
          ],
          "name": "stdout"
        }
      ]
    },
    {
      "cell_type": "code",
      "metadata": {
        "id": "q8KjXR4fWAUz"
      },
      "source": [
        "gencnt=dict((x,genres.count(x)) for x in genres)"
      ],
      "execution_count": 289,
      "outputs": []
    },
    {
      "cell_type": "code",
      "metadata": {
        "colab": {
          "base_uri": "https://localhost:8080/"
        },
        "id": "d-2Xy7t94G-V",
        "outputId": "ed670d13-75ce-421b-8a92-b7a9787ccd1e"
      },
      "source": [
        "print(gencnt)"
      ],
      "execution_count": 290,
      "outputs": [
        {
          "output_type": "stream",
          "text": [
            "{'classic': 3, 'pop': 2}\n"
          ],
          "name": "stdout"
        }
      ]
    },
    {
      "cell_type": "code",
      "metadata": {
        "colab": {
          "base_uri": "https://localhost:8080/"
        },
        "id": "4Pn3sIK8WgT9",
        "outputId": "17b2a313-2cd8-482b-c425-5f71e585b1ac"
      },
      "source": [
        "gencnt=sorted(gencnt, reverse=False)\n",
        "gencnt"
      ],
      "execution_count": 291,
      "outputs": [
        {
          "output_type": "execute_result",
          "data": {
            "text/plain": [
              "['classic', 'pop']"
            ]
          },
          "metadata": {
            "tags": []
          },
          "execution_count": 291
        }
      ]
    },
    {
      "cell_type": "code",
      "metadata": {
        "id": "yuncUStmX-7a"
      },
      "source": [
        "cnt={}\n",
        "for i in gencnt:\n",
        "  cnt.setdefault(i, 0)"
      ],
      "execution_count": 292,
      "outputs": []
    },
    {
      "cell_type": "code",
      "metadata": {
        "colab": {
          "base_uri": "https://localhost:8080/"
        },
        "id": "2kAadfZIzk9w",
        "outputId": "c6a6d1a8-4b80-42d8-cfac-17e75d338c51"
      },
      "source": [
        "print(cnt)"
      ],
      "execution_count": 293,
      "outputs": [
        {
          "output_type": "stream",
          "text": [
            "{'classic': 0, 'pop': 0}\n"
          ],
          "name": "stdout"
        }
      ]
    },
    {
      "cell_type": "code",
      "metadata": {
        "id": "cCX9LIHhiXkD"
      },
      "source": [
        "# for key, value in cnt.items():\n",
        "#   if cnt==['rnb', 0]:\n",
        "#     print(key)"
      ],
      "execution_count": 294,
      "outputs": []
    },
    {
      "cell_type": "code",
      "metadata": {
        "colab": {
          "base_uri": "https://localhost:8080/"
        },
        "id": "Ip4iWDK2RFMk",
        "outputId": "45039de3-052b-4d54-c878-a79a2f650cfa"
      },
      "source": [
        "sor=[]\n",
        "for k in gencnt:\n",
        "  for j in range(0,len(new_dict)):\n",
        "    if k==new_dict[j][1][0] and cnt[k]<2 :\n",
        "      sor.append(new_dict[j])\n",
        "      cnt[k]+=1\n",
        "    else:\n",
        "      pass\n",
        "\n",
        "print(sor)\n",
        "\n"
      ],
      "execution_count": 295,
      "outputs": [
        {
          "output_type": "stream",
          "text": [
            "[(3, ('classic', 800)), (0, ('classic', 500)), (4, ('pop', 2500)), (1, ('pop', 600))]\n"
          ],
          "name": "stdout"
        }
      ]
    },
    {
      "cell_type": "code",
      "metadata": {
        "id": "7KYYF2HK1pBa"
      },
      "source": [
        "def solution(genres, plays):\n",
        "\n",
        "\n",
        "  answer = []\n",
        "  placnt = {}\n",
        "  genre_dic = {}\n",
        "  \n",
        "  for i in range(len(genres)):\n",
        "    if genres[i] not in genre_dic.keys():\n",
        "      genre_dic[genres[i]] = [(plays[i], i)]\n",
        "      placnt[genres[i]] = plays[i]\n",
        "    else:\n",
        "      genre_dic[genres[i]].append((plays[i], i))\n",
        "      placnt[genres[i]] = placnt[genres[i]] + plays[i] \n",
        "      # print(placnt) \n",
        "      # print(genre_dic)\n",
        "  sorted_total_play = sorted(placnt.items(), key=lambda x: x[1], reverse=True)\n",
        "  print(sorted_total_play)\n",
        "  \n",
        "  for key in sorted_total_play:\n",
        "    play_list = genre_dic[key[0]]\n",
        "    play_list = sorted(play_list, key = lambda x : (-x[0], x[1])) \n",
        "    for i in range(len(play_list)):\n",
        "      if i == 2: \n",
        "        break \n",
        "      answer.append(play_list[i][1])\n",
        "\n",
        "  return answer\n",
        "\n"
      ],
      "execution_count": 286,
      "outputs": []
    },
    {
      "cell_type": "code",
      "metadata": {
        "colab": {
          "base_uri": "https://localhost:8080/"
        },
        "id": "fdUUGW1SAORF",
        "outputId": "caa02cbe-96a7-420a-f977-cdf8e06a0536"
      },
      "source": [
        "genres=[\"classic\", \"pop\", \"classic\", \"classic\", \"pop\", \"rnb\"]\n",
        "plays= [500, 600, 150, 800, 2500, 3010]\n",
        "\n",
        "solution(genres, plays)"
      ],
      "execution_count": 287,
      "outputs": [
        {
          "output_type": "stream",
          "text": [
            "[('pop', 3100), ('rnb', 3010), ('classic', 1450)]\n"
          ],
          "name": "stdout"
        },
        {
          "output_type": "execute_result",
          "data": {
            "text/plain": [
              "[4, 1, 5, 3, 0]"
            ]
          },
          "metadata": {
            "tags": []
          },
          "execution_count": 287
        }
      ]
    },
    {
      "cell_type": "code",
      "metadata": {
        "id": "hqNP3PxMAZcm"
      },
      "source": [
        ""
      ],
      "execution_count": null,
      "outputs": []
    }
  ]
}
