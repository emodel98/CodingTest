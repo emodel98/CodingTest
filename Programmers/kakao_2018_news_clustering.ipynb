{
  "nbformat": 4,
  "nbformat_minor": 0,
  "metadata": {
    "colab": {
      "name": "kakao_2020_news_clustering.ipynb",
      "provenance": [],
      "collapsed_sections": []
    },
    "kernelspec": {
      "name": "python3",
      "display_name": "Python 3"
    },
    "language_info": {
      "name": "python"
    }
  },
  "cells": [
    {
      "cell_type": "markdown",
      "metadata": {
        "id": "VJL_Prc7lWg0"
      },
      "source": [
        "문제풀이시간: 16:00~17:25\n",
        "\n",
        "링크: https://programmers.co.kr/learn/courses/30/lessons/17677\n",
        "\n"
      ]
    },
    {
      "cell_type": "markdown",
      "metadata": {
        "id": "aCqNGTC71hc-"
      },
      "source": [
        "#**1안**\n",
        "\n",
        "###2개씩 잘라서 각각을 리스트에 넣고, 정렬한 후 하나씩 비교하되 이중for문을 최소로 쓰기\n",
        "\n",
        "*   문자 형태 통일. 소문자로. 두개로 끊어서 탐색할때 문자문자인거 나오면 계속 a++하되, 같은것이 있으면 b++, 최종 a-b 합집합 b교집합. \n",
        "*   같은 원소 2번이상 나올때 해결못함\n",
        "*   마지막것이 같으면 a가 실제보다 1작아서 못셈\n",
        "*   set을 이용하면 중복이 제거돼서 여기선 사용불가"
      ]
    },
    {
      "cell_type": "code",
      "metadata": {
        "colab": {
          "base_uri": "https://localhost:8080/"
        },
        "id": "jF4PlmIAU9FV",
        "outputId": "5401641b-35cc-4983-ccb5-a7d113598582"
      },
      "source": [
        "str1='handshake'\n",
        "str2='shake hands'\n",
        "#def안에서 우선 내림 해줘야함.\n",
        "str1= str1.lower()\n",
        "str2= str2.lower()\n",
        "answer = 0\n",
        "sub1 = []\n",
        "sub2 = []\n",
        "a=0\n",
        "\n",
        "\n",
        "\n",
        "#각각을 리스트에 넣기.\n",
        "for i in range (0,len(str1)-1):\n",
        "  if str(str1[i:i+2]).isalpha()==True:\n",
        "    sub1.append(str1[i:i+2])\n",
        "  else:\n",
        "    pass\n",
        "\n",
        "for i in range (0,len(str2)-1):\n",
        "  if str(str2[i:i+2]).isalpha()==True:\n",
        "    sub2.append(str2[i:i+2])\n",
        "  else:\n",
        "    pass\n",
        "\n",
        "sub1.sort()\n",
        "sub2.sort()\n",
        "\n",
        "if len(sub1)>=len(sub2):\n",
        "  for i in range(0,len(sub1)-1):\n",
        "    if sub1[i]!= sub1[i+1]:\n",
        "      for j in sub2:\n",
        "        if sub1[i]==j:\n",
        "          a+=1\n",
        "        else:\n",
        "          pass\n",
        "    else:\n",
        "      pass\n",
        "else:\n",
        "  for i in range(0,len(sub2)-1):\n",
        "    if sub2[i]!= sub2[i+1]:\n",
        "      for j in sub1:\n",
        "        if sub2[i]==j:\n",
        "          a+=1\n",
        "        else:\n",
        "          pass\n",
        "    else:\n",
        "      pass\n",
        "\n",
        "\n",
        "print(sub1)\n",
        "print(sub2)\n",
        "print(len(sub1))\n",
        "print(len(sub2))\n",
        "print(a)\n",
        "print(int(65536*a/(len(sub1)+len(sub2)-a)))\n",
        "#마지막까지 같을때 고려를 못함."
      ],
      "execution_count": 180,
      "outputs": [
        {
          "output_type": "stream",
          "text": [
            "['ak', 'an', 'ds', 'ha', 'ha', 'ke', 'nd', 'sh']\n",
            "['ak', 'an', 'ds', 'ha', 'ha', 'ke', 'nd', 'sh']\n",
            "8\n",
            "8\n",
            "7\n",
            "50972\n"
          ],
          "name": "stdout"
        }
      ]
    },
    {
      "cell_type": "markdown",
      "metadata": {
        "id": "8ouZE0D62zXa"
      },
      "source": [
        ""
      ]
    },
    {
      "cell_type": "code",
      "metadata": {
        "colab": {
          "base_uri": "https://localhost:8080/"
        },
        "id": "gllE1QLeVLRj",
        "outputId": "5504ad3d-3e8c-44d8-c0ec-400c4ee00546"
      },
      "source": [
        "    str1='handshake'\n",
        "    str2='shake hands'\n",
        "\n",
        "    #def안에서 우선 내림 해줘야함.\n",
        "    str1= str1.lower()\n",
        "    str2= str2.lower()\n",
        "    answer = 0\n",
        "    sub1 = []\n",
        "    sub2 = []\n",
        "    \n",
        "\n",
        "\n",
        "    #각각을 리스트에 넣기.\n",
        "    for i in range (0,len(str1)-1):\n",
        "        if str(str1[i:i+2]).isalpha()==True:\n",
        "            sub1.append(str1[i:i+2])\n",
        "        else:\n",
        "            pass\n",
        "\n",
        "    for i in range (0,len(str2)-1):\n",
        "        if str(str2[i:i+2]).isalpha()==True:\n",
        "            sub2.append(str2[i:i+2])\n",
        "        else:\n",
        "            pass\n",
        "\n",
        "    sub1.sort()\n",
        "    sub2.sort()\n",
        "\n",
        "    if len(sub1)>len(sub2):\n",
        "        inter = [sub1.remove(x) for x in sub2 if x in sub1] \n",
        "    else:\n",
        "        inter = [sub2.remove(x) for x in sub1 if x in sub2]\n",
        "\n",
        "    \n",
        "    all=sub1+sub2\n",
        "    \n",
        "    if len(all)==0:\n",
        "        answer = 65536\n",
        "    else:\n",
        "        answer= int((len(inter)/len(all)*65536))\n",
        "        \n",
        "    print(answer)\n",
        "\n",
        "    "
      ],
      "execution_count": 200,
      "outputs": [
        {
          "output_type": "stream",
          "text": [
            "65536\n"
          ],
          "name": "stdout"
        }
      ]
    },
    {
      "cell_type": "code",
      "metadata": {
        "id": "AmLs9TVKmdV7"
      },
      "source": [
        ""
      ],
      "execution_count": null,
      "outputs": []
    }
  ]
}
