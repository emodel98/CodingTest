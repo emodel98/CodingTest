{
  "nbformat": 4,
  "nbformat_minor": 0,
  "metadata": {
    "colab": {
      "name": "2019kakao_open_chat.ipynb",
      "provenance": [],
      "collapsed_sections": []
    },
    "kernelspec": {
      "name": "python3",
      "display_name": "Python 3"
    },
    "language_info": {
      "name": "python"
    }
  },
  "cells": [
    {
      "cell_type": "markdown",
      "metadata": {
        "id": "13IsfOCcXJft"
      },
      "source": [
        "**[2019 KAKAO BLIND RECRUITMENT] 오픈채팅방**\n",
        "\n",
        "Level: 1\n",
        "\n",
        "문제링크: https://programmers.co.kr/learn/courses/30/lessons/42888\n",
        "\n",
        "문제풀이시간: 13:13~16:23 (3시간 10분)\n",
        "\n",
        "문제풀이날짜: 2021.05.17"
      ]
    },
    {
      "cell_type": "markdown",
      "metadata": {
        "id": "0-6Tc4cSYpaK"
      },
      "source": [
        "# 1안\n",
        "2중for문으로 직접 비교하기\n",
        "\n",
        "> 1~24 통과했지만 25번사례부터 시간초과로 실패\n",
        "\n"
      ]
    },
    {
      "cell_type": "code",
      "metadata": {
        "id": "ju61bwmDXFQ7"
      },
      "source": [
        "def solution(record):\n",
        "    answer=[]\n",
        "    t=[]\n",
        "    \n",
        "    for i in range(0,len(record)):\n",
        "        t.append(record[i].split(\" \"))\n",
        "\n",
        "    \n",
        "    for i in range(0,len(record)):\n",
        "        for j in range(i+1,len(record)):\n",
        "            if (t[j][0] != \"Leave\") and (t[i][1]==t[j][1]) :\n",
        "                t[i][2]=t[j][2]\n",
        "            elif t[j][0] == \"Leave\" and t[i][1]==t[j][1]:\n",
        "                t[j].extend([t[i][2]])\n",
        "    \n",
        "    ext=answer.extend\n",
        "    for i in range (0,len(record)):\n",
        "        if t[i][0]==\"Enter\":\n",
        "            ext([t[i][2]+\"님이 들어왔습니다.\"])\n",
        "        elif t[i][0]==\"Leave\":\n",
        "            ext([t[i][2]+\"님이 나갔습니다.\"])\n",
        "           \n",
        "    return answer\n",
        "\n"
      ],
      "execution_count": null,
      "outputs": []
    },
    {
      "cell_type": "code",
      "metadata": {
        "id": "oftvf0bdYNxd"
      },
      "source": [
        "#2안: count 해서 uid별 count제일높은것의 이름을 넣어주기.\n",
        "# 아직 구현하지 못함"
      ],
      "execution_count": null,
      "outputs": []
    },
    {
      "cell_type": "markdown",
      "metadata": {
        "id": "SxFbsf7QYcDv"
      },
      "source": [
        "#3안\n",
        "유저아이디별로 최종 이름만 출력해주기. 나가기는 고려하지 않음.\n",
        "\n",
        "> 이중 for문을 안쓰고 dictionary 형태로 최종이름만 저장-> 속도향상"
      ]
    },
    {
      "cell_type": "code",
      "metadata": {
        "id": "Fe3bRnN_XzJj"
      },
      "source": [
        "def solution(record):\n",
        "    answer=[]\n",
        "    fin={}\n",
        "    for a in record: \n",
        "        if (a.split(' ')[0] == \"Enter\") | (a.split(' ')[0] == \"Change\"):\n",
        "            fin[a.split(' ')[1]] = a.split(' ')[2]\n",
        "            \n",
        "    for a in record: \n",
        "        if a.split(' ')[0] == \"Enter\":  \n",
        "            answer.append(\"{}님이 들어왔습니다.\".format(fin[a.split(' ')[1]]))\n",
        "        elif a.split(' ')[0] == \"Leave\": \n",
        "            answer.append(\"{}님이 나갔습니다.\".format(fin[a.split(' ')[1]]))\n",
        "        else:\n",
        "            pass\n",
        "    return answer"
      ],
      "execution_count": null,
      "outputs": []
    }
  ]
}
