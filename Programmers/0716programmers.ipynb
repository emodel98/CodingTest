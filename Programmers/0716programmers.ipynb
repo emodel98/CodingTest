{
  "nbformat": 4,
  "nbformat_minor": 0,
  "metadata": {
    "colab": {
      "name": "0716programmers.ipynb",
      "provenance": [],
      "collapsed_sections": []
    },
    "kernelspec": {
      "name": "python3",
      "display_name": "Python 3"
    },
    "language_info": {
      "name": "python"
    }
  },
  "cells": [
    {
      "cell_type": "markdown",
      "metadata": {
        "id": "EK7BprG344u4"
      },
      "source": [
        "# 1안: 각 수포자별 답안리스트와 정답비교\n",
        "\n",
        "-> 런타임에러"
      ]
    },
    {
      "cell_type": "code",
      "metadata": {
        "id": "_vqfBQPQv666"
      },
      "source": [
        "def supo1ans(l):\n",
        "    a=[]\n",
        "    for i in range(l+1):\n",
        "        #각 유저별 답 append\n",
        "        a.append(i%5+1)\n",
        "    return a\n",
        "\n",
        "def supo2ans(l):\n",
        "    b=[]\n",
        "    for i in range(l+1):\n",
        "        #각 유저별 답 append\n",
        "        if i%2==0:\n",
        "            b.append(2)\n",
        "        elif i%8==1:\n",
        "            b.append(1)\n",
        "        elif i%8==3:\n",
        "            b.append(3)\n",
        "        elif i%8==6:\n",
        "            b.append(4)\n",
        "        elif i%8==7:\n",
        "            b.append(5)  \n",
        "    return b\n",
        "\n",
        "def supo3ans(l):\n",
        "    c=[]\n",
        "    for i in range(l+1):\n",
        "        #각 유저별 답 append\n",
        "        if (i%10==0) or (i%10==1):\n",
        "            c.append(3)\n",
        "        elif (i%10==2) or (i%10==3):   \n",
        "            c.append(1)\n",
        "        elif (i%10==4) or (i%10==5):   \n",
        "            c.append(2)\n",
        "        elif (i%10==6) or (i%10==7):   \n",
        "            c.append(4)\n",
        "        elif (i%10==8) or (i%10==9):   \n",
        "            c.append(5)    \n",
        "    return c\n",
        "\n",
        "def solution(answers):\n",
        "    l=len(answers)\n",
        "    answer = []\n",
        "    maxsupo=[]\n",
        "    ac=0\n",
        "    bc=0\n",
        "    cc=0\n",
        "    for i in range(l):\n",
        "        if answers[i]==supo1ans(l)[i]:\n",
        "            ac+=1\n",
        "        if answers[i]==supo2ans(l)[i]:\n",
        "            bc+=1\n",
        "        if answers[i]==supo3ans(l)[i]:\n",
        "            cc+=1\n",
        "    answer=[ac,bc,cc]\n",
        "\n",
        "    for i in range(3):\n",
        "        if answer[i]==max(answer):\n",
        "            maxsupo.append(i+1)\n",
        "\n",
        "    return maxsupo\n"
      ],
      "execution_count": 73,
      "outputs": []
    },
    {
      "cell_type": "code",
      "metadata": {
        "colab": {
          "base_uri": "https://localhost:8080/"
        },
        "id": "nlIQ8kudwRyQ",
        "outputId": "e3e809c1-1471-4eaa-c1ea-47b4cb57357b"
      },
      "source": [
        "solution([1,2,3,4,5])"
      ],
      "execution_count": 70,
      "outputs": [
        {
          "output_type": "execute_result",
          "data": {
            "text/plain": [
              "[1]"
            ]
          },
          "metadata": {
            "tags": []
          },
          "execution_count": 70
        }
      ]
    },
    {
      "cell_type": "markdown",
      "metadata": {
        "id": "gZ_9GBNP5trR"
      },
      "source": [
        "# 구글링: 딕셔너리 이용한 순차탐색\n",
        "* 순서와 리스트의 값을 전달하는 enumerate 사용"
      ]
    },
    {
      "cell_type": "code",
      "metadata": {
        "id": "nLafoulp0EQC"
      },
      "source": [
        "def solution(answers):\n",
        "    a=[1,2,3,4,5]\n",
        "    b=[2,1,2,3,2,4,2,5]\n",
        "    c=[3,3,1,1,2,2,4,4,5,5]\n",
        "    ac=0\n",
        "    bc=0\n",
        "    cc=0\n",
        "    answer = []\n",
        "    maxsupo=[]\n",
        "    for index, value in enumerate(answers):\n",
        "        if value == a[index%5]:\n",
        "            ac+=1\n",
        "        if value == b[index%8]:\n",
        "            bc+=1\n",
        "        if value == c[index%10]:\n",
        "            cc+=1\n",
        "    answer=[ac,bc,cc]\n",
        "\n",
        "    for i in range(3):\n",
        "        if answer[i]==max(answer):\n",
        "            maxsupo.append(i+1)\n",
        "\n",
        "    return maxsupo\n",
        "\n"
      ],
      "execution_count": 82,
      "outputs": []
    },
    {
      "cell_type": "code",
      "metadata": {
        "colab": {
          "base_uri": "https://localhost:8080/"
        },
        "id": "TvcLyZbv90we",
        "outputId": "87079660-91e1-4a65-984b-2523ea8b0939"
      },
      "source": [
        "solution([1,2,3,4,5])"
      ],
      "execution_count": 83,
      "outputs": [
        {
          "output_type": "execute_result",
          "data": {
            "text/plain": [
              "[1]"
            ]
          },
          "metadata": {
            "tags": []
          },
          "execution_count": 83
        }
      ]
    },
    {
      "cell_type": "code",
      "metadata": {
        "id": "LRniGlYk91OA"
      },
      "source": [
        ""
      ],
      "execution_count": null,
      "outputs": []
    }
  ]
}
