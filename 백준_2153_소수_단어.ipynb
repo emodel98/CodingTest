{
  "nbformat": 4,
  "nbformat_minor": 0,
  "metadata": {
    "colab": {
      "name": "백준_2153_소수 단어.ipynb",
      "provenance": [],
      "collapsed_sections": []
    },
    "kernelspec": {
      "name": "python3",
      "display_name": "Python 3"
    },
    "language_info": {
      "name": "python"
    }
  },
  "cells": [
    {
      "cell_type": "markdown",
      "metadata": {
        "id": "GLgS_Z0BPIUP"
      },
      "source": [
        "# **2153 소수 단어**\n",
        "소수란 1과 자기 자신으로만 나누어떨어지는 수를 말한다. 예를 들면 1, 2, 3, 5, 17, 101, 10007 등이 소수이다. 이 문제에서는 편의상 1도 소수로 하자.\n",
        "\n",
        "알파벳 대소문자로 이루어진 영어 단어가 하나 있을 때, a를 1로, b를 2로, …, z를 26으로, A를 27로, …, Z를 52로 하여 그 합을 구한다. 예를 들어 cyworld는 합을 구하면 100이 되고, abcd는 10이 된다.\n",
        "\n",
        "이와 같이 구한 수가 소수인 경우, 그 단어를 소수 단어라고 한다. 단어가 주어졌을 때, 그 단어가 소수 단어인지 판별하는 프로그램을 작성하시오."
      ]
    },
    {
      "cell_type": "markdown",
      "metadata": {
        "id": "H46vLIToO-0s"
      },
      "source": [
        "# **입력**\n",
        "첫째 줄에 단어가 주어진다. 단어의 길이는 20자 이하이다. 주어지는 단어는 알파벳 소문자와 대문자만으로 이루어져 있다."
      ]
    },
    {
      "cell_type": "markdown",
      "metadata": {
        "id": "2J7FzTYfPCMv"
      },
      "source": [
        "# **출력**\n",
        "\n",
        "아래의 예제와 같은 형식으로 출력을 한다. 소수 단어인 경우에는 It is a prime word.를, 아닌 경우에는 It is not a prime word.를 출력한다."
      ]
    },
    {
      "cell_type": "code",
      "metadata": {
        "colab": {
          "base_uri": "https://localhost:8080/"
        },
        "id": "zrfXQ2RsPOJX",
        "outputId": "83de0d65-6c5d-45a4-97bd-87df1341d4f5"
      },
      "source": [
        "s=input()\n",
        "a=[]\n",
        "l=[s[i] for i in range(len(s))]\n",
        "for j in l:\n",
        "    if j.isupper()==True:\n",
        "        a.append(ord(j)-38)\n",
        "    elif j.islower()==True:\n",
        "        a.append(ord(j)-96)\n",
        "    else:\n",
        "        continue\n",
        "# print(a)\n",
        "# print(sum(a))\n",
        "\n",
        "p=[]\n",
        "for k in range(2, sum(a)+1):\n",
        "    if sum(a)%k==0:\n",
        "        p.append(k)\n",
        "    else:\n",
        "        continue\n",
        "\n",
        "# print(p)\n",
        "\n",
        "if s=='a' or len(p)==1:\n",
        "    print(\"It is a prime word.\")\n",
        "else:\n",
        "    print(\"It is not a prime word.\")\n",
        "\n",
        "#65~90 A~Z\n",
        "#97~122 a~z"
      ],
      "execution_count": 91,
      "outputs": [
        {
          "output_type": "stream",
          "text": [
            "Homework\n",
            "[34, 15, 13, 5, 23, 15, 18, 11]\n",
            "134\n",
            "[2, 67, 134]\n",
            "It is not a prime word.\n"
          ],
          "name": "stdout"
        }
      ]
    },
    {
      "cell_type": "code",
      "metadata": {
        "id": "0V3wYs4QWXzy"
      },
      "source": [
        ""
      ],
      "execution_count": null,
      "outputs": []
    }
  ]
}