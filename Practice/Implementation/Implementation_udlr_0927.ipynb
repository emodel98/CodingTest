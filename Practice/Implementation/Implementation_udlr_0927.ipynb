{
  "nbformat": 4,
  "nbformat_minor": 0,
  "metadata": {
    "colab": {
      "name": "Implementation_udlr_0927.ipynb",
      "provenance": [],
      "collapsed_sections": []
    },
    "kernelspec": {
      "name": "python3",
      "display_name": "Python 3"
    },
    "language_info": {
      "name": "python"
    }
  },
  "cells": [
    {
      "cell_type": "markdown",
      "metadata": {
        "id": "oqTq85zjVNoK"
      },
      "source": [
        "# 상하좌우\n",
        "\n",
        "\n",
        "\n",
        "*   여행가 A는 N*N 크기의 정사각형 공간 위에 서 있다. 1*1 정사각형으로 나눠져 있다. 가장 왼쪽 위 좌표는(1, 1), 제일 오른쪽 아래는 (N,N). A는 항상 상하좌우로만 움직일 수 있다. 계획서에는 띄어쓰기 기준으로 I,R,U,D 중 하나가 반복적으로 적혀있음. 정사각형 공간을 벗어나면 이동 X. \n",
        "*   계획서가 주어졌을 때 최종적으로 도착하는 곳을 구하게 하자\n",
        "\n"
      ]
    },
    {
      "cell_type": "markdown",
      "metadata": {
        "id": "ct4NYta5V22V"
      },
      "source": [
        "#입력조건\n",
        "\n",
        "*  첫째 줄에 공간의 크기를 나타내는 N이 주어짐. (1<=N<=100)\n",
        "*  둘째 줄에 여행가 A가 이동할 계획서 내용이 주어진다.(1<=이동 횟수<=100)\n"
      ]
    },
    {
      "cell_type": "markdown",
      "metadata": {
        "id": "mXqhjV_8WMoY"
      },
      "source": [
        "#출력조건\n",
        "\n",
        "*  첫째 줄에 여행가 A가 최종적으로 도착할 지점의 좌표 (X,Y)를 공백으로 구분하여 출력"
      ]
    },
    {
      "cell_type": "code",
      "metadata": {
        "colab": {
          "base_uri": "https://localhost:8080/",
          "height": 54
        },
        "id": "-bRxBUI1TDsN",
        "outputId": "6cd10002-968f-4505-b450-e86cd6680854"
      },
      "source": [
        "N=int(input())\n",
        "X, Y = 1,1\n",
        "plan=input()\n",
        "plan.replace(' ','')"
      ],
      "execution_count": 7,
      "outputs": [
        {
          "name": "stdout",
          "output_type": "stream",
          "text": [
            "R R R U D D\n"
          ]
        },
        {
          "output_type": "execute_result",
          "data": {
            "application/vnd.google.colaboratory.intrinsic+json": {
              "type": "string"
            },
            "text/plain": [
              "'RRRUDD'"
            ]
          },
          "metadata": {},
          "execution_count": 7
        }
      ]
    },
    {
      "cell_type": "code",
      "metadata": {
        "colab": {
          "base_uri": "https://localhost:8080/"
        },
        "id": "mggJ0_3_W40v",
        "outputId": "e6f620f0-58ae-4491-9870-09cc09c12abf"
      },
      "source": [
        "for i in range(len(plan)):\n",
        "  if plan[i]=='R':\n",
        "    if Y==N:\n",
        "      pass\n",
        "    else:\n",
        "      Y+=1\n",
        "  if plan[i]=='D':\n",
        "    if X==N:\n",
        "      pass\n",
        "    else:\n",
        "      X+=1\n",
        "  if plan[i]=='L':\n",
        "    if Y==1:\n",
        "      pass\n",
        "    else:\n",
        "      Y-=1\n",
        "  if plan[i]=='U':\n",
        "    if X==1:\n",
        "      pass\n",
        "    else:\n",
        "      X-=1\n",
        "\n",
        "print(X, Y)\n",
        "  "
      ],
      "execution_count": 8,
      "outputs": [
        {
          "output_type": "stream",
          "name": "stdout",
          "text": [
            "3 4\n"
          ]
        }
      ]
    }
  ]
}