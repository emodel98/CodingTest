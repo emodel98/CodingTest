{
  "nbformat": 4,
  "nbformat_minor": 0,
  "metadata": {
    "colab": {
      "name": "Implementation_time_0927.ipynb",
      "provenance": [],
      "collapsed_sections": []
    },
    "kernelspec": {
      "name": "python3",
      "display_name": "Python 3"
    },
    "language_info": {
      "name": "python"
    }
  },
  "cells": [
    {
      "cell_type": "markdown",
      "metadata": {
        "id": "oLpjmJ1Uah7y"
      },
      "source": [
        "# 시각\n",
        "\n",
        "정수 N이 입력되면 00시 00분 00초부터 N시 59분 59초까지의 모든 시각 중에서 3이 하나라도 포함되는 모든 경우의 수를 구하기."
      ]
    },
    {
      "cell_type": "markdown",
      "metadata": {
        "id": "crBnnKxRawsC"
      },
      "source": [
        "# 입력조건\n",
        "*  첫 줄에 N이 입력된다(0<=N<=23).\n"
      ]
    },
    {
      "cell_type": "markdown",
      "metadata": {
        "id": "8LQWQk8Sa4yG"
      },
      "source": [
        "# 출력조건\n",
        "*  모든 경우의 수를 출력"
      ]
    },
    {
      "cell_type": "markdown",
      "metadata": {
        "id": "lZ9vk_EMbgdx"
      },
      "source": [
        "#사고과정\n",
        "\n",
        "*  00초~59초 중 3이 하나라도 들어가는 건?\n",
        "\n",
        "  *  0X, 1X, 2X, 4X, 5X초 -> 각 1개\n",
        "  *  3X -> 10개\n",
        "  *  안들어가는건 -> 45개\n",
        "\n",
        "* 00분~59분 중 3이 하나라도 들어가는 건?\n",
        "\n",
        "  *  0X, 1X, 2X, 4X, 5X초 -> 각 1개\n",
        "  *  3X -> 10개\n",
        "  *  안들어가는건 -> 45개\n",
        "\n",
        "* 00시~23시 중 3이 하나라도 들어가는 건?\n",
        "\n",
        "  *  3, 13, 23 -> 3개\n",
        "  *  안들어가는건 -> 21개\n",
        "\n",
        "* 경우의수는 \n",
        "  *  안-안-안 -> 21x45x45\n",
        "  *  안-안-들 -> 21x45x15\n",
        "  *  안-들-안/안-들-들 ->21x15x60\n",
        "  *  들-안-안/들-안-들/들-들-안/들-들-들 -> 3x60x60\n"
      ]
    },
    {
      "cell_type": "code",
      "metadata": {
        "id": "377BhKi0aY-h",
        "colab": {
          "base_uri": "https://localhost:8080/"
        },
        "outputId": "09dc8d5c-9caf-4359-e43f-6c410c9acce9"
      },
      "source": [
        "#알고리즘 이용 -> 이걸 생각해내는 cost 너무 크다. \n",
        "N=int(input())\n",
        "T3=[3, 13, 23]\n",
        "cnt=0\n",
        "for i in range(3):\n",
        "  if N > T3[i]:\n",
        "    cnt+=1\n",
        "    print(cnt)\n",
        "  else:\n",
        "    continue\n",
        "\n",
        "timecnt=(N+1-cnt)*(45*15+15*60)+60*60*(cnt)\n",
        "print(timecnt)"
      ],
      "execution_count": 13,
      "outputs": [
        {
          "output_type": "stream",
          "name": "stdout",
          "text": [
            "5\n",
            "1\n",
            "11475\n"
          ]
        }
      ]
    },
    {
      "cell_type": "markdown",
      "metadata": {
        "id": "8gZ11iy6J4fD"
      },
      "source": [
        "#완전탐색"
      ]
    },
    {
      "cell_type": "code",
      "metadata": {
        "colab": {
          "base_uri": "https://localhost:8080/"
        },
        "id": "nkm6vMqXFRbU",
        "outputId": "9b085dcc-23ba-4f51-e0e9-7a8dc84c1e1e"
      },
      "source": [
        "N=int(input())\n",
        "cnt=0\n",
        "for i in range(0, N+1):\n",
        "  for j in range(0, 60):\n",
        "    for k in range(0, 60):\n",
        "      if ('3' in str(i)) or ('3' in str(j)) or ('3' in str(k)):\n",
        "        cnt+=1\n",
        "print(cnt)"
      ],
      "execution_count": 19,
      "outputs": [
        {
          "output_type": "stream",
          "name": "stdout",
          "text": [
            "5\n",
            "11475\n"
          ]
        }
      ]
    },
    {
      "cell_type": "code",
      "metadata": {
        "id": "1OUHLZflLItJ"
      },
      "source": [
        ""
      ],
      "execution_count": null,
      "outputs": []
    }
  ]
}