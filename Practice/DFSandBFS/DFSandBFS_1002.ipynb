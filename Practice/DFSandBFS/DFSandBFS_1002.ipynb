{
  "nbformat": 4,
  "nbformat_minor": 0,
  "metadata": {
    "colab": {
      "name": "DFSandBFS_1002.ipynb",
      "provenance": [],
      "collapsed_sections": []
    },
    "kernelspec": {
      "name": "python3",
      "display_name": "Python 3"
    },
    "language_info": {
      "name": "python"
    }
  },
  "cells": [
    {
      "cell_type": "markdown",
      "metadata": {
        "id": "ik2cwBonQujU"
      },
      "source": [
        "#인접 행렬 방식 그래프 처리\n",
        "\n",
        "* Adjacency Matrix\n",
        "* 단 : 메모리 불필요하게 낭비\n",
        "* 장 : 특정 인덱스 집어서 탐색하면 되므로 탐색속도는 빠름\n"
      ]
    },
    {
      "cell_type": "code",
      "metadata": {
        "colab": {
          "base_uri": "https://localhost:8080/"
        },
        "id": "FaGLb7VcQfE3",
        "outputId": "298d4fb0-b19c-47ef-a53e-47e10e964d0d"
      },
      "source": [
        "INF=99999 #무한의 비용 선언\n",
        "\n",
        "#2차원 리스트를 이용해 인접 행렬 표현\n",
        "graph=[\n",
        "       [0,7,5],\n",
        "       [7,0,INF],\n",
        "       [5,INF,0]\n",
        "]\n",
        "\n",
        "print(graph)"
      ],
      "execution_count": null,
      "outputs": [
        {
          "output_type": "stream",
          "name": "stdout",
          "text": [
            "[[0, 7, 5], [7, 0, 99999], [5, 99999, 0]]\n"
          ]
        }
      ]
    },
    {
      "cell_type": "markdown",
      "metadata": {
        "id": "VAInz-RYRL_u"
      },
      "source": [
        "#인접 리스트 방식 데이터 처리 \n",
        "\n",
        "* 연결 리스트라는 자료구조 이용. append로 넣어주자.\n",
        "* 단 : 탐색속도 느림 \n",
        "* 장 : 메모리 효율성"
      ]
    },
    {
      "cell_type": "code",
      "metadata": {
        "colab": {
          "base_uri": "https://localhost:8080/"
        },
        "id": "Zc5nmw4ARJG8",
        "outputId": "b1bed1e8-a6ae-48e8-e1ad-221504b1dc41"
      },
      "source": [
        "# 행이 3개인 2차원 리스트로 인접 리스트 표현\n",
        "graph = [[] for _ in range(3)]\n",
        "\n",
        "#node0 (node, cost)\n",
        "graph[0].append((1,7))\n",
        "graph[0].append((2,5))\n",
        "\n",
        "#node1 (node, cost)\n",
        "graph[1].append((0,7))\n",
        "\n",
        "#node2 (node, cost)\n",
        "graph[2].append((0,5))\n",
        "\n",
        "print(graph)\n",
        "\n"
      ],
      "execution_count": null,
      "outputs": [
        {
          "output_type": "stream",
          "name": "stdout",
          "text": [
            "[[(1, 7), (2, 5)], [(0, 7)], [(0, 5)]]\n"
          ]
        }
      ]
    },
    {
      "cell_type": "markdown",
      "metadata": {
        "id": "0cHAkQzMQjvo"
      },
      "source": [
        "#DFS\n",
        "\n",
        "* 깊이우선탐색\n",
        "* 스택 -> 재귀함수 사용가능"
      ]
    },
    {
      "cell_type": "code",
      "metadata": {
        "id": "oeIwxxJfR6fL",
        "colab": {
          "base_uri": "https://localhost:8080/"
        },
        "outputId": "76ea1a49-f239-481b-b27e-3b175cff0c7b"
      },
      "source": [
        "def dfs(graph, v, visited):\n",
        "  visited[v] = True #to avoid moving backward(up)\n",
        "  print(v, end=' ')\n",
        "  #visiting recursively(ascending)\n",
        "  for i in graph[v]: \n",
        "    if not visited[i]:\n",
        "      dfs(graph, i, visited)\n",
        "    \n",
        "graph = [\n",
        "         [], #~node0\n",
        "         [2,3,8],\n",
        "         [1,7],\n",
        "         [1,4,5],\n",
        "         [3,5],\n",
        "         [3,4],\n",
        "         [7],\n",
        "         [2,6,8],\n",
        "         [1,7]\n",
        "]\n",
        "\n",
        "#1d list\n",
        "visited = [False] * 9\n",
        "\n",
        "#call DFS fnc. starting from node'1'\n",
        "dfs(graph, 1, visited)\n",
        "\n"
      ],
      "execution_count": 4,
      "outputs": [
        {
          "output_type": "stream",
          "name": "stdout",
          "text": [
            "1 2 7 6 8 3 4 5 "
          ]
        }
      ]
    },
    {
      "cell_type": "markdown",
      "metadata": {
        "id": "eYu-G5NLX08R"
      },
      "source": [
        "#BFS\n",
        "\n",
        "*  너비 우선 탐색 \n",
        "*  큐\n",
        "*  deque 이용\n"
      ]
    },
    {
      "cell_type": "code",
      "metadata": {
        "colab": {
          "base_uri": "https://localhost:8080/"
        },
        "id": "UWrOStJdX0nk",
        "outputId": "b0ec8470-9c1b-48b6-8060-85c7c904fe55"
      },
      "source": [
        "from collections import deque\n",
        "\n",
        "def bfs(graph, start, visited):\n",
        "  #using deque library to implement queue\n",
        "  queue = deque([start])\n",
        "  visited[start] = True\n",
        "  while queue:\n",
        "    #select one from queue and print\n",
        "    v = queue.popleft()\n",
        "    print(v, end=' ')\n",
        "    #put connected elements not visited in queue\n",
        "    for i in graph[v]:\n",
        "      if not visited[i]:\n",
        "        queue.append(i)\n",
        "        visited[i] = True\n",
        "  \n",
        "graph = [\n",
        "         [], #~node0\n",
        "         [2,3,8],\n",
        "         [1,7],\n",
        "         [1,4,5],\n",
        "         [3,5],\n",
        "         [3,4],\n",
        "         [7],\n",
        "         [2,6,8],\n",
        "         [1,7]\n",
        "]\n",
        "\n",
        "visited = [False]*9\n",
        "\n",
        "bfs(graph, 1, visited)"
      ],
      "execution_count": 6,
      "outputs": [
        {
          "output_type": "stream",
          "name": "stdout",
          "text": [
            "1 2 3 8 7 4 5 6 "
          ]
        }
      ]
    }
  ]
}