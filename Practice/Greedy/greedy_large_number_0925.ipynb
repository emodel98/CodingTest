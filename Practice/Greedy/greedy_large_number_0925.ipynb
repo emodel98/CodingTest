{
  "nbformat": 4,
  "nbformat_minor": 0,
  "metadata": {
    "colab": {
      "name": "greedy_large_number_0925.ipynb",
      "provenance": [],
      "collapsed_sections": []
    },
    "kernelspec": {
      "name": "python3",
      "display_name": "Python 3"
    },
    "language_info": {
      "name": "python"
    }
  },
  "cells": [
    {
      "cell_type": "markdown",
      "metadata": {
        "id": "EEmlHje3qMqK"
      },
      "source": [
        "# 큰 수의 법칙\n",
        "\n",
        "* 2019 국가 교육기관 코딩테스트\n",
        "* 난이도 하\n",
        "\n",
        "* Q: 동빈이의 큰 수의 법칙은 다양한 수로 이루어진 배열이 있을 때 주어진 수들을 M번 더하여 가장 큰 수를 만드는 버빅이다. 단 배열의 특정 인덱스에 해당하는 수가 연속해서 K번 초과해 더해질 수는 없다. \n",
        "\n",
        "* 예를 들어 순서대로 2,4,5,4,6으로 이루어진 배열이 있을 때 M이 8이고, K가 3이라고 하자. 이 경우 특정한 인덱스의 수가 연속해서 세 번까지만 더해질 수 있으므로 큰 수의 법칙에 따른 결과는 6+6+6+5+6+6+6+5인 46이 된다. 단 서로 다른 인덱스에 해당하는 수가 같은 경우에도 서로 다른 것으로 간주. 3,4,3,4,3이 있고 M이 7이고 K가 2면 4 2개씩을 번갈아가며 더하면 된다. 4+4+4+4+4+4+4=28\n",
        "\n",
        "* 주어지는 것이 다음과 같을 때 결과를 출력하시오.\n",
        "\n",
        "  *   N: 배열의 크기\n",
        "  *   M: 더해지는 횟수\n",
        "  *   K: 최대\n",
        "\n"
      ]
    },
    {
      "cell_type": "markdown",
      "metadata": {
        "id": "1cF3qWU1rzw7"
      },
      "source": [
        "**입력 조건**\n",
        "\n",
        "* 첫째 줄에 N(2<=N<=1000), M(1<=M<=10000), K(1<=K<=10000) 의 자연수가 주어지며 각 자연수는 공백으로 구분한다.\n",
        "* 둘째 줄에 N개의 자연수가 주어진다. 각 자연수는 공백으로 구분한다. 단, 각각의 자연수는 1 이상 10000 이하의 수로 주어진다. \n",
        "\n",
        "* 입력으로 주어지는 K는 항상 M보다 작거나 같다. \n",
        "\n",
        "**출력 조건**\n",
        "* 첫째 줄에 동빈이의 큰 수의 법칙에 따라 더해진 답을 출력한다. \n"
      ]
    },
    {
      "cell_type": "code",
      "metadata": {
        "colab": {
          "base_uri": "https://localhost:8080/"
        },
        "id": "qALgGNZLqHxY",
        "outputId": "73c278ad-a974-4bad-e3e1-1e431b57cbef"
      },
      "source": [
        "# 내 풀이: 반복되는 수열을 이용\n",
        "\n",
        "# import sys\n",
        "# N, M, K = map(sys.std.readline.split())\n",
        "N=5\n",
        "M=8\n",
        "K=3\n",
        "\n",
        "# data = list(map(int,sys.stdin.readline().split()))\n",
        "data=[2, 4, 5, 4, 6]\n",
        "data.sort(reverse=True)\n",
        "print(data)"
      ],
      "execution_count": 13,
      "outputs": [
        {
          "output_type": "stream",
          "name": "stdout",
          "text": [
            "[6, 5, 4, 4, 2]\n"
          ]
        }
      ]
    },
    {
      "cell_type": "code",
      "metadata": {
        "colab": {
          "base_uri": "https://localhost:8080/"
        },
        "id": "MVnWofJBt-tb",
        "outputId": "48f1001c-d71d-4968-f864-12f3962797da"
      },
      "source": [
        "temp = 0\n",
        "\n",
        "if data[0]!=data[1]:\n",
        "  temp += M // (K+1) * (K * data[0]+data[1]) + M % (K+1) * data[0]\n",
        "  print('here1')\n",
        "else:\n",
        "  temp += M * data[0]\n",
        "  print('here2')\n",
        "\n",
        "print(temp)"
      ],
      "execution_count": 14,
      "outputs": [
        {
          "output_type": "stream",
          "name": "stdout",
          "text": [
            "here1\n",
            "46\n"
          ]
        }
      ]
    },
    {
      "cell_type": "code",
      "metadata": {
        "id": "6gRM8fIlv3oT"
      },
      "source": [
        ""
      ],
      "execution_count": null,
      "outputs": []
    }
  ]
}