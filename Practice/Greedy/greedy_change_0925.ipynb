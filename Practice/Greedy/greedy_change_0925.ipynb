{
  "nbformat": 4,
  "nbformat_minor": 0,
  "metadata": {
    "colab": {
      "name": "greedy_change_0925.ipynb",
      "provenance": [],
      "collapsed_sections": []
    },
    "kernelspec": {
      "name": "python3",
      "display_name": "Python 3"
    },
    "language_info": {
      "name": "python"
    }
  },
  "cells": [
    {
      "cell_type": "markdown",
      "metadata": {
        "id": "LovTvhH7mohm"
      },
      "source": [
        "# 거스름돈\n",
        "* Q : 당신은 음식점의 계산을 도와주는 점원이다. 카운터에는 거스름돈으로 사용할 500원, 100원, 50원, 10원이 무한히 존재한다고 가정. 손님에게 거슬러 줘야 할 돈이 N원이라 할 때 거슬러줘야 할 동전의 최소 개수를 구하라. 단 거슬러 줘야 할 돈 N은 항상 10의 배수이다.\n",
        "\n",
        "* 해결법: 가장 큰 화폐 단위부터 거슬러주는 것\n"
      ]
    },
    {
      "cell_type": "code",
      "metadata": {
        "colab": {
          "base_uri": "https://localhost:8080/"
        },
        "id": "9i9U4b_JjnY2",
        "outputId": "c356c082-8cb0-4b1a-af0e-49e37c8fd329"
      },
      "source": [
        "#내 풀이\n",
        "N=1260\n",
        "\n",
        "c500=N//500\n",
        "c100=(N%500)//100\n",
        "c50=((N%500)%100)//50\n",
        "c10=(((N%500)%100)%50)//10\n",
        "\n",
        "print(c500+c100+c50+c10)"
      ],
      "execution_count": 1,
      "outputs": [
        {
          "output_type": "stream",
          "name": "stdout",
          "text": [
            "6\n"
          ]
        }
      ]
    },
    {
      "cell_type": "code",
      "metadata": {
        "colab": {
          "base_uri": "https://localhost:8080/"
        },
        "id": "QGqmdsm2oN7S",
        "outputId": "441a73a9-35b7-4e02-9e8f-7d70ee24a4da"
      },
      "source": [
        "#조금 더 효과적인 풀이\n",
        "\n",
        "N=1260\n",
        "cnt=0\n",
        "\n",
        "c=[500, 100, 50, 10]\n",
        "\n",
        "for i in c:\n",
        "  cnt += N//i\n",
        "  N %= i\n",
        "\n",
        "print(cnt)\n"
      ],
      "execution_count": 3,
      "outputs": [
        {
          "output_type": "stream",
          "name": "stdout",
          "text": [
            "6\n"
          ]
        }
      ]
    }
  ]
}