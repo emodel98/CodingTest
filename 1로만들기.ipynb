{
  "nbformat": 4,
  "nbformat_minor": 0,
  "metadata": {
    "colab": {
      "name": "1로만들기.ipynb",
      "provenance": [],
      "collapsed_sections": []
    },
    "kernelspec": {
      "name": "python3",
      "display_name": "Python 3"
    },
    "language_info": {
      "name": "python"
    }
  },
  "cells": [
    {
      "cell_type": "markdown",
      "metadata": {
        "id": "1k71U8SyIkpp"
      },
      "source": [
        "백준 1463_1로 만들기\n",
        "* 문제 링크:https://www.acmicpc.net/problem/1463\n",
        "* 풀이 시간: 많이 걸림.. \n",
        "* 정수 X에 사용할 수 있는 연산은 다음과 같이 세 가지 이다.\n",
        "\n",
        "  * X가 3으로 나누어 떨어지면, 3으로 나눈다.\n",
        "  * X가 2로 나누어 떨어지면, 2로 나눈다.\n",
        "  * 1을 뺀다.\n",
        "  \n",
        "* 정수 N이 주어졌을 때, 위와 같은 연산 세 개를 적절히 사용해서 1을 만들려고 한다. 연산을 사용하는 횟수의 최솟값을 출력하시오."
      ]
    },
    {
      "cell_type": "markdown",
      "metadata": {
        "id": "bpmx-wrrI6c7"
      },
      "source": [
        "# 1. **나의 생각**\n",
        "\n",
        "* 방향성\n",
        "\n",
        "1: 2n+1, 3m+1\n",
        "\n",
        "2: 2n, 3m+2\n",
        "\n",
        "3: 2n+1, 3m\n",
        "\n",
        "4: 2n, 3m+1\n",
        "\n",
        "5: 2n+1, 3m+2\n",
        "\n",
        "6: 2n, 3m\n",
        "\n",
        "의 형태를 계속 반복할 것이라고 생각. 그래서 각 경우별 최소로 만들어주는 경우를 찾아 3으로 나누는 경우, 2로 나누는 경우, 1을 빼는 경우를 if(elif)로 코딩하려고 했음.\n",
        "\n",
        "* 문제점\n",
        "  * 숫자가 커질수록 안 맞는 경우가 있었음. 상황에 따라 달라질 수가 있었음. 이전의 최소 결과 반영이 필요했음. \n"
      ]
    },
    {
      "cell_type": "code",
      "metadata": {
        "colab": {
          "base_uri": "https://localhost:8080/"
        },
        "id": "PPvXj988JBT1",
        "outputId": "5964cc26-6901-4fc7-ab3e-557d1499294e"
      },
      "source": [
        "a= int(input())\n",
        "\n",
        "def cnt(a):\n",
        "  b=0\n",
        "  for i in range(0,50):\n",
        "    if a==1:\n",
        "      break\n",
        "    if ((a%2==1 and a%3==1) or (a%2==0 and a%3==1) or (a%2==1 and a%3==2)):\n",
        "      a-=1\n",
        "      b+=1\n",
        "    if ((a%2==0) and (a%3==2)):\n",
        "      a=a/2\n",
        "      b+=1\n",
        "    if ((a%2==1 and a%3==0) or (a%6==0)):\n",
        "      a=a/3\n",
        "      b+=1\n",
        "  return b\n",
        "        \n",
        "cnt(a)\n",
        "\n"
      ],
      "execution_count": 21,
      "outputs": [
        {
          "output_type": "stream",
          "text": [
            "15511\n"
          ],
          "name": "stdout"
        },
        {
          "output_type": "execute_result",
          "data": {
            "text/plain": [
              "16"
            ]
          },
          "metadata": {
            "tags": []
          },
          "execution_count": 21
        }
      ]
    },
    {
      "cell_type": "markdown",
      "metadata": {
        "id": "vUi_3mNJFJIx"
      },
      "source": [
        "# 2. 구글링\n",
        "Dynamic Programming: 개념 : 문제를 더 작은 단위로 쪼개어 해결하는 알고리즘. (분할 정복 알고리즘과 비슷)\n",
        "핵심은, 그 작은 단위의 문제들이 반복해서 일어나기 때문에, 그값들을 저장해놓는 식으로 해결해나가는 알고리즘\n",
        "\n",
        "*  파이썬은 재귀함수 쓰면 런타임 에러 많으므로 반복문(bottom-up)방식을 추천. 점화식 정의 필요"
      ]
    },
    {
      "cell_type": "code",
      "metadata": {
        "colab": {
          "base_uri": "https://localhost:8080/"
        },
        "id": "L1XqerHvcWU7",
        "outputId": "7d72497a-f4ad-4345-d8fc-a9007677319e"
      },
      "source": [
        "# 점화식 : dp(N) = min ( dp(N//3) +1, dp(N//2)+1 , dp(N-1)+1 )\n",
        "a= int(input())\n",
        "dp = [0 for _ in range(a+1)]\n",
        "\n",
        "for i in range(2, a+1):\n",
        "    dp[i] = dp[i-1] + 1  \n",
        "\n",
        "    if i%2 == 0 and dp[i] > dp[i//2] + 1 :\n",
        "        dp[i] = dp[i//2]+1\n",
        "        \n",
        "    if i%3 == 0 and dp[i] > dp[i//3] + 1 :\n",
        "        dp[i] = dp[i//3] + 1\n",
        "        \n",
        "print(dp[a])\n",
        "\n"
      ],
      "execution_count": 22,
      "outputs": [
        {
          "output_type": "stream",
          "text": [
            "15511\n",
            "16\n"
          ],
          "name": "stdout"
        }
      ]
    },
    {
      "cell_type": "code",
      "metadata": {
        "id": "4C6U1r09GGQl"
      },
      "source": [
        ""
      ],
      "execution_count": null,
      "outputs": []
    }
  ]
}