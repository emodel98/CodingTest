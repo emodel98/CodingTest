{
  "nbformat": 4,
  "nbformat_minor": 0,
  "metadata": {
    "colab": {
      "name": "new_id_0722programmers.ipynb",
      "provenance": [],
      "collapsed_sections": []
    },
    "kernelspec": {
      "name": "python3",
      "display_name": "Python 3"
    },
    "language_info": {
      "name": "python"
    }
  },
  "cells": [
    {
      "cell_type": "markdown",
      "metadata": {
        "id": "8ig-KUNUdknS"
      },
      "source": [
        "# 신규아이디 추천\n",
        "* 4번에서 문자열이'.'일 때 고려를 못함."
      ]
    },
    {
      "cell_type": "code",
      "metadata": {
        "id": "PVZiPY7gKFi9"
      },
      "source": [
        "예를 들어, new_id 값이 \"...!@BaT#*..y.abcdefghijklm\" 라면, 위 7단계를 거치고 나면 new_id는 아래와 같이 변경됩니다.\n",
        "1단계 대문자 'B'와 'T'가 소문자 'b'와 't'로 바뀌었습니다.\n",
        "\"...!@BaT#*..y.abcdefghijklm\" → \"...!@bat#*..y.abcdefghijklm\"\n",
        "2단계 '!', '@', '#', '*' 문자가 제거되었습니다.\n",
        "\"...!@bat#*..y.abcdefghijklm\" → \"...bat..y.abcdefghijklm\"\n",
        "3단계 '...'와 '..' 가 '.'로 바뀌었습니다.\n",
        "\"...bat..y.abcdefghijklm\" → \".bat.y.abcdefghijklm\"\n",
        "4단계 아이디의 처음에 위치한 '.'가 제거되었습니다.\n",
        "\".bat.y.abcdefghijklm\" → \"bat.y.abcdefghijklm\"\n",
        "5단계 아이디가 빈 문자열이 아니므로 변화가 없습니다.\n",
        "\"bat.y.abcdefghijklm\" → \"bat.y.abcdefghijklm\"\n",
        "6단계 아이디의 길이가 16자 이상이므로, 처음 15자를 제외한 나머지 문자들이 제거되었습니다.\n",
        "\"bat.y.abcdefghijklm\" → \"bat.y.abcdefghi\"\n",
        "7단계 아이디의 길이가 2자 이하가 아니므로 변화가 없습니다.\n",
        "\"bat.y.abcdefghi\" → \"bat.y.abcdefghi\"\n",
        "따라서 신규 유저가 입력한 new_id가 \"...!@BaT#*..y.abcdefghijklm\"일 때, 네오의 프로그램이 추천하는 새로운 아이디는 \"bat.y.abcdefghi\" 입니다."
      ],
      "execution_count": null,
      "outputs": []
    },
    {
      "cell_type": "code",
      "metadata": {
        "id": "ibuvjttUS1Cs"
      },
      "source": [
        "s=\"=.=\""
      ],
      "execution_count": 110,
      "outputs": []
    },
    {
      "cell_type": "code",
      "metadata": {
        "id": "MFrRv07OTBc6"
      },
      "source": [
        "##1\n",
        "s=s.lower()"
      ],
      "execution_count": 111,
      "outputs": []
    },
    {
      "cell_type": "code",
      "metadata": {
        "id": "6_q_4M_xTChP"
      },
      "source": [
        "# l=[]\n",
        "# for i in s:\n",
        "#   if (i.islower()==True) or (i=='-') or (i=='_') or (i=='.') or (i.isnumeric()==True):\n",
        "#       l.append(i)\n",
        "##2\n",
        "k=len(s)\n",
        "for i in range(k):\n",
        "  if (s[i].islower()!= True) and (s[i]!='-') and (s[i]!='_') and (s[i]!='.') and (s[i].isnumeric()!=True):\n",
        "    s=s.replace(s[i],\" \")\n",
        "s=s.replace(\" \",\"\")"
      ],
      "execution_count": 112,
      "outputs": []
    },
    {
      "cell_type": "code",
      "metadata": {
        "id": "k4Y16gBLVOsQ"
      },
      "source": [
        "##3\n",
        "k=len(s)\n",
        "result=\"\"\n",
        "result+=s[0]\n",
        "for i in range(1,k):\n",
        "\n",
        "  if s[i-1]!='.':\n",
        "    result+=s[i]\n",
        "  else:\n",
        "    if s[i]=='.':\n",
        "      pass\n",
        "    else:\n",
        "      result+=s[i]"
      ],
      "execution_count": 114,
      "outputs": []
    },
    {
      "cell_type": "code",
      "metadata": {
        "colab": {
          "base_uri": "https://localhost:8080/",
          "height": 37
        },
        "id": "3VRKXOG4aj92",
        "outputId": "1d31623d-db83-4339-a01b-6a60477d96d7"
      },
      "source": [
        "result"
      ],
      "execution_count": 115,
      "outputs": [
        {
          "output_type": "execute_result",
          "data": {
            "application/vnd.google.colaboratory.intrinsic+json": {
              "type": "string"
            },
            "text/plain": [
              "'.'"
            ]
          },
          "metadata": {
            "tags": []
          },
          "execution_count": 115
        }
      ]
    },
    {
      "cell_type": "code",
      "metadata": {
        "colab": {
          "base_uri": "https://localhost:8080/"
        },
        "id": "6KeN7dWCdr-D",
        "outputId": "fa63051f-55bd-4a76-8f0b-eea1ab5b3666"
      },
      "source": [
        "##4\n",
        "if result[-1]=='.'\n",
        "  result=result[:-1]\n",
        "\n",
        "if result[0]=='.':\n",
        "  result=result[1:]\n",
        "\n",
        "print(temp)"
      ],
      "execution_count": 116,
      "outputs": [
        {
          "output_type": "stream",
          "text": [
            ".\n"
          ],
          "name": "stdout"
        }
      ]
    },
    {
      "cell_type": "code",
      "metadata": {
        "id": "iYWV6sY7dub7"
      },
      "source": [
        "##5\n",
        "if result=='':\n",
        "  result='a'+result"
      ],
      "execution_count": 109,
      "outputs": []
    },
    {
      "cell_type": "code",
      "metadata": {
        "id": "oTUDUZr4Zr7j"
      },
      "source": [
        "##6\n",
        "if len(result)>15:\n",
        "  result=result[0:14]"
      ],
      "execution_count": 99,
      "outputs": []
    },
    {
      "cell_type": "code",
      "metadata": {
        "id": "88SkSPDRZ7Hw"
      },
      "source": [
        "if len(result)<3:\n",
        "  while len(result)<3:\n",
        "    result+=result[-1]"
      ],
      "execution_count": 100,
      "outputs": []
    },
    {
      "cell_type": "code",
      "metadata": {
        "colab": {
          "base_uri": "https://localhost:8080/",
          "height": 37
        },
        "id": "CeQceGb1aLzy",
        "outputId": "488e7568-5695-467d-d19d-4ac71c8049f1"
      },
      "source": [
        "result"
      ],
      "execution_count": 101,
      "outputs": [
        {
          "output_type": "execute_result",
          "data": {
            "application/vnd.google.colaboratory.intrinsic+json": {
              "type": "string"
            },
            "text/plain": [
              "'aaa'"
            ]
          },
          "metadata": {
            "tags": []
          },
          "execution_count": 101
        }
      ]
    },
    {
      "cell_type": "code",
      "metadata": {
        "id": "QRWUQ3kLafJC"
      },
      "source": [
        "def solution(s):\n",
        "    s=s.lower()\n",
        "    \n",
        "    k=len(s)\n",
        "    for i in range(k):\n",
        "        if (s[i].islower()!= True) and (s[i]!='-') and (s[i]!='_') and (s[i]!='.') and (s[i].isnumeric()!=True):\n",
        "            s=s.replace(s[i],\" \")\n",
        "    s=s.replace(\" \",\"\")\n",
        "    \n",
        "    t=len(s)\n",
        "    \n",
        "    result=\"\"\n",
        "    result+=s[0]\n",
        "    for i in range(1,t):\n",
        "\n",
        "        if s[i-1]!='.':\n",
        "            result+=s[i]\n",
        "        else:\n",
        "            if s[i]=='.':\n",
        "                pass\n",
        "            else:\n",
        "                result+=s[i]\n",
        "            \n",
        "    if result[0]=='.':\n",
        "        result=result[1:]\n",
        "\n",
        "    if result[-1]=='.':\n",
        "        result=result[:-1]\n",
        "    \n",
        "    if result=='':\n",
        "        result='a'+result\n",
        "    \n",
        "    if len(result)>15:\n",
        "        result=result[0:14]\n",
        "        \n",
        "    if len(result)<3:\n",
        "        while len(result)<3:\n",
        "            result+=result[-1]\n",
        "            \n",
        "    return result\n",
        "\n"
      ],
      "execution_count": null,
      "outputs": []
    }
  ]
}